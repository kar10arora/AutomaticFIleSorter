{
 "cells": [
  {
   "cell_type": "markdown",
   "id": "79b302b0",
   "metadata": {},
   "source": [
    "# Automatic File Sorter\n",
    "# This is an Automatic File Sorter which arranges files into their respective folders at regular intervals.\n",
    "# It utilizes the `os` and `shutil` Python standard libraries for interacting with the operating system and performing file system operations.\n",
    "\n"
   ]
  },
  {
   "cell_type": "code",
   "execution_count": 9,
   "id": "75feb89e",
   "metadata": {},
   "outputs": [],
   "source": [
    "# Utilizing Python's os and shutil modules for efficient file management and system interaction.\n",
    "import os , shutil"
   ]
  },
  {
   "cell_type": "code",
   "execution_count": 10,
   "id": "e893ca95",
   "metadata": {},
   "outputs": [],
   "source": [
    "# Specify the path where the sorting take place\n",
    "path = r\"C:/project folder/\""
   ]
  },
  {
   "cell_type": "code",
   "execution_count": 11,
   "id": "17f73d81",
   "metadata": {},
   "outputs": [
    {
     "data": {
      "text/plain": [
       "['6-step-ml-framework.png',\n",
       " 'ass11.png',\n",
       " 'ass2.png',\n",
       " 'ass3.png',\n",
       " 'ASSI4..png',\n",
       " 'assi5.png',\n",
       " 'assi6.png',\n",
       " 'assi7.png',\n",
       " 'asssa.txt',\n",
       " 'avengers.jpeg',\n",
       " 'B.Tech CSE 4th Semester Syllabus Arranged pdf.pdf',\n",
       " 'car-sales-extended-missing-data.csv',\n",
       " 'Companies.csv',\n",
       " 'Datesheet of B.Tech.pdf',\n",
       " 'desktop-wallpaper-mahadev-black-mahadev.jpg',\n",
       " 'diabetes_prediction_dataset.csv',\n",
       " 'exported-car-sales.csv',\n",
       " 'heart-disease.csv',\n",
       " 'Heart_Disease_Prediction1.csv',\n",
       " 'img.jpg',\n",
       " 'lord-mahadev-pic.jpg',\n",
       " 'Mahadev-Bhagwan-Photo-for-Devotee.jpg',\n",
       " 'mid-term-date-sheet_pq0NsAp.pdf',\n",
       " 'mustangGT.jpg',\n",
       " 'photograph.JPG',\n",
       " 'SIGNATURE.png',\n",
       " 'txt.txt',\n",
       " 'vgsales.csv',\n",
       " 'WhatsApp Image 2024-02-18 at 9.30.40 PM.jpeg',\n",
       " 'WhatsApp Image 2024-02-25 at 2.03.05 PM.jpeg',\n",
       " 'WhatsApp Image 2024-02-25 at 2.03.43 PM.jpeg',\n",
       " 'WhatsApp Image 2024-02-25 at 2.12.54 PM.jpeg',\n",
       " 'WhatsApp Image 2024-03-08 at 8.55.57 AM.jpeg']"
      ]
     },
     "execution_count": 11,
     "metadata": {},
     "output_type": "execute_result"
    }
   ],
   "source": [
    "# Createa list of all documents stored in the path\n",
    "file_name = os.listdir(path)\n",
    "file_name"
   ]
  },
  {
   "cell_type": "code",
   "execution_count": 12,
   "id": "fd04160d",
   "metadata": {},
   "outputs": [],
   "source": [
    "folders = ['image_files','text_files','csv_files','pdf']"
   ]
  },
  {
   "cell_type": "code",
   "execution_count": 13,
   "id": "a39e57ae",
   "metadata": {},
   "outputs": [
    {
     "name": "stdout",
     "output_type": "stream",
     "text": [
      "C:/project folder/image_files\n",
      "C:/project folder/text_files\n",
      "C:/project folder/csv_files\n",
      "C:/project folder/pdf\n"
     ]
    }
   ],
   "source": [
    "#Create the directories if that directory does not exist\n",
    "for i in range(0,len(folders)):\n",
    "    if not os.path.exists(path + folders[i]):\n",
    "        print(path + folders[i])\n",
    "        os.makedirs(path+folders[i])"
   ]
  },
  {
   "cell_type": "code",
   "execution_count": null,
   "id": "d2a84a4f",
   "metadata": {},
   "outputs": [],
   "source": [
    "# Create a function for automatic file sorting process\n",
    "def automatic_file_sorter():\n",
    "    for file in file_name:\n",
    "        if \".csv\" in file and not os.path.exists(path + \"csv_files/\" + file):\n",
    "            shutil.move(path + file, path + \"csv_files/\" + file)\n",
    "        elif \".txt\" in file and not os.path.exists(path + \"text_files/\" + file):\n",
    "            shutil.move(path + file, path + \"text_files/\" + file)\n",
    "        elif (\".jpeg\" in file or \".JPEG\" in file or \".JPG\" in file or \".jpg\" in file or \".png\" in file or \".PNG\" in file) and not os.path.exists(path + \"image_files/\" + file):\n",
    "            shutil.move(path + file, path + \"image_files/\" + file)\n",
    "        elif \".pdf\" in file and not os.path.exists(path + \"pdf/\" + file):\n",
    "            shutil.move(path + file, path + \"pdf/\" + file)"
   ]
  },
  {
   "cell_type": "code",
   "execution_count": 15,
   "id": "b535e344",
   "metadata": {},
   "outputs": [],
   "source": [
    "import time"
   ]
  },
  {
   "cell_type": "code",
   "execution_count": null,
   "id": "3f511894",
   "metadata": {},
   "outputs": [],
   "source": [
    "# Using time module to run the function every day for the file sorting \n",
    "while(True):\n",
    "    automatic_file_sorter()\n",
    "    time.sleep(86400)\n",
    "    "
   ]
  },
  {
   "cell_type": "code",
   "execution_count": null,
   "id": "503335a4",
   "metadata": {},
   "outputs": [],
   "source": []
  },
  {
   "cell_type": "code",
   "execution_count": null,
   "id": "353b3c1d",
   "metadata": {},
   "outputs": [],
   "source": []
  }
 ],
 "metadata": {
  "kernelspec": {
   "display_name": "Python 3 (ipykernel)",
   "language": "python",
   "name": "python3"
  },
  "language_info": {
   "codemirror_mode": {
    "name": "ipython",
    "version": 3
   },
   "file_extension": ".py",
   "mimetype": "text/x-python",
   "name": "python",
   "nbconvert_exporter": "python",
   "pygments_lexer": "ipython3",
   "version": "3.11.5"
  }
 },
 "nbformat": 4,
 "nbformat_minor": 5
}
